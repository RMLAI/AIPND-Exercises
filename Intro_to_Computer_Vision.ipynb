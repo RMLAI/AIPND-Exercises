{
  "nbformat": 4,
  "nbformat_minor": 0,
  "metadata": {
    "colab": {
      "name": "Intro to Computer Vision.ipynb",
      "provenance": [],
      "collapsed_sections": [],
      "authorship_tag": "ABX9TyOlbqna2mVkLIbugJ++AfCR",
      "include_colab_link": true
    },
    "kernelspec": {
      "name": "python3",
      "display_name": "Python 3"
    },
    "accelerator": "GPU"
  },
  "cells": [
    {
      "cell_type": "markdown",
      "metadata": {
        "id": "view-in-github",
        "colab_type": "text"
      },
      "source": [
        "<a href=\"https://colab.research.google.com/github/RMLAI/AIPND-Exercises/blob/master/Intro_to_Computer_Vision.ipynb\" target=\"_parent\"><img src=\"https://colab.research.google.com/assets/colab-badge.svg\" alt=\"Open In Colab\"/></a>"
      ]
    },
    {
      "cell_type": "code",
      "metadata": {
        "id": "ZKammbQJB1ZU",
        "colab_type": "code",
        "colab": {
          "base_uri": "https://localhost:8080/",
          "height": 34
        },
        "outputId": "d3b5364d-8b47-4a8d-97e4-c0776bbced89"
      },
      "source": [
        "#Importing Tensorflow\n",
        "import tensorflow as tf\n",
        "print(tf.__version__)"
      ],
      "execution_count": 3,
      "outputs": [
        {
          "output_type": "stream",
          "text": [
            "2.2.0\n"
          ],
          "name": "stdout"
        }
      ]
    },
    {
      "cell_type": "code",
      "metadata": {
        "id": "fkqxKpdDkTJ-",
        "colab_type": "code",
        "colab": {}
      },
      "source": [
        "#Load the fashion MNIST dataset\n",
        "mnist = tf.keras.datasets.fashion_mnist"
      ],
      "execution_count": 4,
      "outputs": []
    },
    {
      "cell_type": "code",
      "metadata": {
        "id": "61Teg1CMkh-v",
        "colab_type": "code",
        "colab": {
          "base_uri": "https://localhost:8080/",
          "height": 153
        },
        "outputId": "2fabd8d3-049a-486c-8d8b-4849f285258b"
      },
      "source": [
        "#Loading the data gives 2 sets of lists, one is training data , other is testing data\n",
        "(training_images,training_labels),(test_images,test_labels)=mnist.load_data()"
      ],
      "execution_count": 5,
      "outputs": [
        {
          "output_type": "stream",
          "text": [
            "Downloading data from https://storage.googleapis.com/tensorflow/tf-keras-datasets/train-labels-idx1-ubyte.gz\n",
            "32768/29515 [=================================] - 0s 0us/step\n",
            "Downloading data from https://storage.googleapis.com/tensorflow/tf-keras-datasets/train-images-idx3-ubyte.gz\n",
            "26427392/26421880 [==============================] - 0s 0us/step\n",
            "Downloading data from https://storage.googleapis.com/tensorflow/tf-keras-datasets/t10k-labels-idx1-ubyte.gz\n",
            "8192/5148 [===============================================] - 0s 0us/step\n",
            "Downloading data from https://storage.googleapis.com/tensorflow/tf-keras-datasets/t10k-images-idx3-ubyte.gz\n",
            "4423680/4422102 [==============================] - 0s 0us/step\n"
          ],
          "name": "stdout"
        }
      ]
    },
    {
      "cell_type": "code",
      "metadata": {
        "id": "9Ir_WQ-blZfx",
        "colab_type": "code",
        "colab": {
          "base_uri": "https://localhost:8080/",
          "height": 758
        },
        "outputId": "0c69691c-9639-4cd7-861a-5482a55e872a"
      },
      "source": [
        "#Lets look at some of the images\n",
        "import numpy as np\n",
        "np.set_printoptions(linewidth=200)\n",
        "import matplotlib.pyplot as plt\n",
        "plt.imshow(training_images[18])\n",
        "print(training_images[18])\n",
        "print(training_labels[18])"
      ],
      "execution_count": 6,
      "outputs": [
        {
          "output_type": "stream",
          "text": [
            "[[  0   0   0   2   0   2   0   0   6  36  79  24   0   0   0   0   0  31  73   1   0   0   0   2   0   0   0   0]\n",
            " [  0   0   0   1   2   0   0 153 160 153 176 189 188 194 145 154 149 192 179 145 161  83   0   0   2   0   0   0]\n",
            " [  0   0   0   2   0   0 135 170 144 150 147 162 187 106   1 200 177 166 146 149 151 169 113   0   3   0   0   0]\n",
            " [  0   0   0   4   0  34 179 149 151 150 145 135 169 136  86 190 156 143 146 148 146 143 157   3   0   3   0   0]\n",
            " [  0   0   0   0   0 101 177 160 152 155 150 148 144 156 163 141 154 152 150 145 147 144 163  64   0   4   0   0]\n",
            " [  0   0   0   0   0 143 178 171 154 156 149 145 149 149 145 148 147 152 148 137 152 155 162 108   0   0   0   0]\n",
            " [  0   0   0   0   0 178 174 176 163 155 144 141 146 149 140 146 143 143 139 144 150 161 163 129   0   0   0   0]\n",
            " [  0   0   0   0   5 166 180 174 190 161 147 146 149 149 147 147 149 147 143 144 157 179 150 163   0   0   0   0]\n",
            " [  0   0   0   0  30 176 178 186 208 151 149 151 154 152 152 151 152 149 141 134 194 183 155 179   0   0   0   0]\n",
            " [  0   0   0   0  80 181 182 196 212 147 152 150 152 151 151 151 151 147 142 131 190 198 159 160  32   0   0   0]\n",
            " [  0   0   0   0 103 182 175 206 197 152 148 150 153 154 153 150 149 142 143 136 183 224 160 161  80   0   0   0]\n",
            " [  0   0   0   0 138 187 174 225 187 150 152 152 155 154 156 154 154 147 150 131 186 227 159 162 119   0   0   0]\n",
            " [  0   0   0   0 164 195 171 235 180 154 153 153 157 157 158 152 152 147 143 137 169 232 161 173 144   0   0   0]\n",
            " [  0   0   0   0 182 200 171 231 170 154 155 157 159 159 160 157 155 144 149 142 157 232 166 187 170   0   0   0]\n",
            " [  0   0   0   0 191 201 180 251 159 157 157 157 157 159 163 152 152 147 148 148 148 226 174 193 172   0   0   0]\n",
            " [  0   0   0   7 191 209 200 203 143 166 159 157 160 162 158 156 156 143 147 154 131 215 194 195 169   5   0   0]\n",
            " [  0   0   0  24 191 212 213 212 148 166 156 155 158 161 158 156 153 145 153 148 142 204 232 184 175  27   0   0]\n",
            " [  0   0   0  40 198 213 224 193 155 162 159 157 157 164 160 160 154 145 152 154 140 161 234 178 178  38   0   0]\n",
            " [  0   0   0  46 193 224 231 122 168 163 161 159 163 171 165 169 164 152 160 155 147 124 246 190 184  49   0   0]\n",
            " [  0   0   0  42 193 225 227 115 172 150 152 150 154 152 149 156 163 152 140 139 168  87 231 195 178  63   0   0]\n",
            " [  0   0   0  52 188 217 224 107 178 174 156 165 184 162 180 174 161 171 182 166 180  86 255 186 170  72   0   0]\n",
            " [  0   0   0  58 207 232 229 120 177 181 152 160 189 183 223 167 139 156 173 179 178  62 230 146 183  78   0   0]\n",
            " [  0   0   0  70 219 232 234 175 156 185 146 164 186 186 203 155 151 160 155 198 182 131 237 164 176 101   0   0]\n",
            " [  0   0   0  91 183 198 212 151 159 178 155 159 187 195 191 152 156 156 140 210 191 137 226 203 199 100   0   0]\n",
            " [  0   0   0  98 189 192 219 150 149 166 147 148 187 211 178 152 157 148 143 188 187 125 213 200 192  96   0   0]\n",
            " [  0   0   0  87 203 171 207 171 183 172 168 165 176 199 185 161 161 161 170 187 186 155 209 195 175  63   0   0]\n",
            " [  0   0   0  44 193 217  84  80  99  79  88 125 203 171 169 199 181 186 116 118 133 114 170 221 179   4   0   0]\n",
            " [  0   0   0   0  74 133   6   0   0   0   0   0   0   0   0   0   0   0   0   0   0   0  15 160 100   0   0   0]]\n",
            "6\n"
          ],
          "name": "stdout"
        },
        {
          "output_type": "display_data",
          "data": {
            "image/png": "[encoded data removed]",
            "text/plain": [
              "<Figure size 432x288 with 1 Axes>"
            ]
          },
          "metadata": {
            "tags": [],
            "needs_background": "light"
          }
        }
      ]
    },
    {
      "cell_type": "code",
      "metadata": {
        "id": "tyb_H5IQmfp-",
        "colab_type": "code",
        "colab": {}
      },
      "source": [
        "#normalizing the data\n",
        "training_images=training_images/255.0\n",
        "test_images=test_images/255.0"
      ],
      "execution_count": 7,
      "outputs": []
    },
    {
      "cell_type": "code",
      "metadata": {
        "id": "QjzWGeG7m6y_",
        "colab_type": "code",
        "colab": {}
      },
      "source": [
        "#building the model\n",
        "model=tf.keras.models.Sequential([tf.keras.layers.Flatten(),\n",
        "                                  tf.keras.layers.Dense(128,activation=tf.nn.relu),\n",
        "                                  tf.keras.layers.Dense(10,activation=tf.nn.softmax)])"
      ],
      "execution_count": 8,
      "outputs": []
    },
    {
      "cell_type": "code",
      "metadata": {
        "id": "94vqL_dgoKja",
        "colab_type": "code",
        "colab": {
          "base_uri": "https://localhost:8080/",
          "height": 374
        },
        "outputId": "34ec747f-c1af-4e3b-dd0e-c47e1efec79d"
      },
      "source": [
        "#compiling and fitting the model\n",
        "model.compile(optimizer=tf.optimizers.Adam(),\n",
        "              loss = 'sparse_categorical_crossentropy',\n",
        "              metrics=['accuracy'])\n",
        "model.fit(training_images,training_labels,epochs=10)\n"
      ],
      "execution_count": 10,
      "outputs": [
        {
          "output_type": "stream",
          "text": [
            "Epoch 1/10\n",
            "1875/1875 [==============================] - 4s 2ms/step - loss: 0.4976 - accuracy: 0.8244\n",
            "Epoch 2/10\n",
            "1875/1875 [==============================] - 3s 2ms/step - loss: 0.3725 - accuracy: 0.8643\n",
            "Epoch 3/10\n",
            "1875/1875 [==============================] - 3s 2ms/step - loss: 0.3372 - accuracy: 0.8762\n",
            "Epoch 4/10\n",
            "1875/1875 [==============================] - 4s 2ms/step - loss: 0.3109 - accuracy: 0.8850\n",
            "Epoch 5/10\n",
            "1875/1875 [==============================] - 3s 2ms/step - loss: 0.2940 - accuracy: 0.8921\n",
            "Epoch 6/10\n",
            "1875/1875 [==============================] - 3s 2ms/step - loss: 0.2772 - accuracy: 0.8972\n",
            "Epoch 7/10\n",
            "1875/1875 [==============================] - 4s 2ms/step - loss: 0.2679 - accuracy: 0.9005\n",
            "Epoch 8/10\n",
            "1875/1875 [==============================] - 3s 2ms/step - loss: 0.2576 - accuracy: 0.9047\n",
            "Epoch 9/10\n",
            "1875/1875 [==============================] - 3s 2ms/step - loss: 0.2484 - accuracy: 0.9080\n",
            "Epoch 10/10\n",
            "1875/1875 [==============================] - 3s 2ms/step - loss: 0.2380 - accuracy: 0.9114\n"
          ],
          "name": "stdout"
        },
        {
          "output_type": "execute_result",
          "data": {
            "text/plain": [
              "<tensorflow.python.keras.callbacks.History at 0x7f143050c470>"
            ]
          },
          "metadata": {
            "tags": []
          },
          "execution_count": 10
        }
      ]
    },
    {
      "cell_type": "code",
      "metadata": {
        "id": "TWTO1ZcgpgcQ",
        "colab_type": "code",
        "colab": {
          "base_uri": "https://localhost:8080/",
          "height": 51
        },
        "outputId": "b06774df-8669-4a2c-8fc7-84a68a63d9d5"
      },
      "source": [
        "#evaluate the model\n",
        "model.evaluate(test_images,test_labels)"
      ],
      "execution_count": 11,
      "outputs": [
        {
          "output_type": "stream",
          "text": [
            "313/313 [==============================] - 1s 2ms/step - loss: 0.3557 - accuracy: 0.8790\n"
          ],
          "name": "stdout"
        },
        {
          "output_type": "execute_result",
          "data": {
            "text/plain": [
              "[0.35570305585861206, 0.8790000081062317]"
            ]
          },
          "metadata": {
            "tags": []
          },
          "execution_count": 11
        }
      ]
    }
  ]
}