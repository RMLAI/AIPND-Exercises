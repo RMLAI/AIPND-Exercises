{
  "nbformat": 4,
  "nbformat_minor": 0,
  "metadata": {
    "colab": {
      "name": "Numpy Tutorial.ipynb",
      "provenance": [],
      "collapsed_sections": [],
      "toc_visible": true,
      "mount_file_id": "1nJ8kaNWNIxhkimVwoBN01SjhvdM2T9tG",
      "authorship_tag": "ABX9TyOzR/7msqoPWpNsrYuN4+y4",
      "include_colab_link": true
    },
    "kernelspec": {
      "name": "python3",
      "display_name": "Python 3"
    }
  },
  "cells": [
    {
      "cell_type": "markdown",
      "metadata": {
        "id": "view-in-github",
        "colab_type": "text"
      },
      "source": [
        "<a href=\"https://colab.research.google.com/github/RMLAI/AIPND-Exercises/blob/master/Numpy_Tutorial.ipynb\" target=\"_parent\"><img src=\"https://colab.research.google.com/assets/colab-badge.svg\" alt=\"Open In Colab\"/></a>"
      ]
    },
    {
      "cell_type": "code",
      "metadata": {
        "id": "2kWHk_sj_Pml",
        "colab_type": "code",
        "colab": {}
      },
      "source": [
        ""
      ],
      "execution_count": 0,
      "outputs": []
    },
    {
      "cell_type": "markdown",
      "metadata": {
        "id": "oXU-1w-6_SZk",
        "colab_type": "text"
      },
      "source": [
        "NUMPY Tutorial"
      ]
    },
    {
      "cell_type": "code",
      "metadata": {
        "id": "WXxdFumI_U3G",
        "colab_type": "code",
        "colab": {}
      },
      "source": [
        "#importing numpy\n",
        "import numpy as np"
      ],
      "execution_count": 0,
      "outputs": []
    },
    {
      "cell_type": "markdown",
      "metadata": {
        "id": "oUItEWg1AFKo",
        "colab_type": "text"
      },
      "source": [
        "Numpy data types & attributes - main datatype is ndarray"
      ]
    },
    {
      "cell_type": "code",
      "metadata": {
        "id": "cyhpUsucAM5G",
        "colab_type": "code",
        "outputId": "536168d5-1c84-4d9a-cab5-852f228797d2",
        "colab": {
          "base_uri": "https://localhost:8080/",
          "height": 34
        }
      },
      "source": [
        "a1=np.array([1.1,2,3,5])\n",
        "a1"
      ],
      "execution_count": 0,
      "outputs": [
        {
          "output_type": "execute_result",
          "data": {
            "text/plain": [
              "array([1.1, 2. , 3. , 5. ])"
            ]
          },
          "metadata": {
            "tags": []
          },
          "execution_count": 12
        }
      ]
    },
    {
      "cell_type": "code",
      "metadata": {
        "id": "GrbjaRIqBGj9",
        "colab_type": "code",
        "outputId": "1ca07253-4f83-41b1-8442-34d927e596e6",
        "colab": {
          "base_uri": "https://localhost:8080/",
          "height": 51
        }
      },
      "source": [
        "# 2-d array\n",
        "a2=np.array([[1,2,3],[4,5,6]])\n",
        "a2"
      ],
      "execution_count": 0,
      "outputs": [
        {
          "output_type": "execute_result",
          "data": {
            "text/plain": [
              "array([[1, 2, 3],\n",
              "       [4, 5, 6]])"
            ]
          },
          "metadata": {
            "tags": []
          },
          "execution_count": 13
        }
      ]
    },
    {
      "cell_type": "code",
      "metadata": {
        "id": "kDTQwB-KBc2l",
        "colab_type": "code",
        "outputId": "07d5fcba-ed69-4be4-dfde-a646177006fa",
        "colab": {
          "base_uri": "https://localhost:8080/",
          "height": 68
        }
      },
      "source": [
        "#3-d array\n",
        "a3=np.array([[[1,2,3],[4,5,6],[7,8,9]]])\n",
        "a3"
      ],
      "execution_count": 0,
      "outputs": [
        {
          "output_type": "execute_result",
          "data": {
            "text/plain": [
              "array([[[1, 2, 3],\n",
              "        [4, 5, 6],\n",
              "        [7, 8, 9]]])"
            ]
          },
          "metadata": {
            "tags": []
          },
          "execution_count": 14
        }
      ]
    },
    {
      "cell_type": "code",
      "metadata": {
        "id": "5qv1hYFUFc4I",
        "colab_type": "code",
        "outputId": "47bd284c-f2e1-4397-8f49-c605b9dbb9b8",
        "colab": {
          "base_uri": "https://localhost:8080/",
          "height": 34
        }
      },
      "source": [
        "#checking the shape of the array\n",
        "a1.shape"
      ],
      "execution_count": 0,
      "outputs": [
        {
          "output_type": "execute_result",
          "data": {
            "text/plain": [
              "(4,)"
            ]
          },
          "metadata": {
            "tags": []
          },
          "execution_count": 6
        }
      ]
    },
    {
      "cell_type": "code",
      "metadata": {
        "id": "xQUwa491Fisq",
        "colab_type": "code",
        "outputId": "8ad12f18-7e97-4df8-e18b-741d5f0f2067",
        "colab": {
          "base_uri": "https://localhost:8080/",
          "height": 34
        }
      },
      "source": [
        "a2.shape"
      ],
      "execution_count": 0,
      "outputs": [
        {
          "output_type": "execute_result",
          "data": {
            "text/plain": [
              "(2, 3)"
            ]
          },
          "metadata": {
            "tags": []
          },
          "execution_count": 7
        }
      ]
    },
    {
      "cell_type": "code",
      "metadata": {
        "id": "Klh-ba1cFlQw",
        "colab_type": "code",
        "outputId": "78e30a5a-2627-4271-97a9-54ce6b201e08",
        "colab": {
          "base_uri": "https://localhost:8080/",
          "height": 34
        }
      },
      "source": [
        "a3.shape"
      ],
      "execution_count": 0,
      "outputs": [
        {
          "output_type": "execute_result",
          "data": {
            "text/plain": [
              "(1, 3, 3)"
            ]
          },
          "metadata": {
            "tags": []
          },
          "execution_count": 8
        }
      ]
    },
    {
      "cell_type": "code",
      "metadata": {
        "id": "IMu90twVGCNm",
        "colab_type": "code",
        "outputId": "ce72d1b1-b0c7-4255-d87e-51f07c4fabf7",
        "colab": {
          "base_uri": "https://localhost:8080/",
          "height": 34
        }
      },
      "source": [
        "a1.dtype,a2.dtype,a3.dtype"
      ],
      "execution_count": 0,
      "outputs": [
        {
          "output_type": "execute_result",
          "data": {
            "text/plain": [
              "(dtype('float64'), dtype('int64'), dtype('int64'))"
            ]
          },
          "metadata": {
            "tags": []
          },
          "execution_count": 9
        }
      ]
    },
    {
      "cell_type": "code",
      "metadata": {
        "id": "4mbJKiEUGH_d",
        "colab_type": "code",
        "outputId": "8a901b63-4961-46c3-b407-f521a7044b75",
        "colab": {
          "base_uri": "https://localhost:8080/",
          "height": 34
        }
      },
      "source": [
        "#size to find out the count of elements in array\n",
        "a1.size,a2.size,a3.size"
      ],
      "execution_count": 0,
      "outputs": [
        {
          "output_type": "execute_result",
          "data": {
            "text/plain": [
              "(4, 6, 9)"
            ]
          },
          "metadata": {
            "tags": []
          },
          "execution_count": 10
        }
      ]
    },
    {
      "cell_type": "code",
      "metadata": {
        "id": "SXfNtJ1gGTc_",
        "colab_type": "code",
        "outputId": "e561efd1-fcf9-462b-bcce-1decc9dda797",
        "colab": {
          "base_uri": "https://localhost:8080/",
          "height": 34
        }
      },
      "source": [
        "type(a1),type(a2),type(a3)"
      ],
      "execution_count": 0,
      "outputs": [
        {
          "output_type": "execute_result",
          "data": {
            "text/plain": [
              "(numpy.ndarray, numpy.ndarray, numpy.ndarray)"
            ]
          },
          "metadata": {
            "tags": []
          },
          "execution_count": 11
        }
      ]
    },
    {
      "cell_type": "code",
      "metadata": {
        "id": "no0kJlc3Gj_4",
        "colab_type": "code",
        "outputId": "9b43151d-652c-45e4-d680-9f54d27e358c",
        "colab": {
          "base_uri": "https://localhost:8080/",
          "height": 111
        }
      },
      "source": [
        "#Creating a dataframe array with\n",
        "import pandas as pd\n",
        "df=pd.DataFrame(a2)\n",
        "df"
      ],
      "execution_count": 0,
      "outputs": [
        {
          "output_type": "execute_result",
          "data": {
            "text/html": [
              "<div>\n",
              "<style scoped>\n",
              "    .dataframe tbody tr th:only-of-type {\n",
              "        vertical-align: middle;\n",
              "    }\n",
              "\n",
              "    .dataframe tbody tr th {\n",
              "        vertical-align: top;\n",
              "    }\n",
              "\n",
              "    .dataframe thead th {\n",
              "        text-align: right;\n",
              "    }\n",
              "</style>\n",
              "<table border=\"1\" class=\"dataframe\">\n",
              "  <thead>\n",
              "    <tr style=\"text-align: right;\">\n",
              "      <th></th>\n",
              "      <th>0</th>\n",
              "      <th>1</th>\n",
              "      <th>2</th>\n",
              "    </tr>\n",
              "  </thead>\n",
              "  <tbody>\n",
              "    <tr>\n",
              "      <th>0</th>\n",
              "      <td>1</td>\n",
              "      <td>2</td>\n",
              "      <td>3</td>\n",
              "    </tr>\n",
              "    <tr>\n",
              "      <th>1</th>\n",
              "      <td>4</td>\n",
              "      <td>5</td>\n",
              "      <td>6</td>\n",
              "    </tr>\n",
              "  </tbody>\n",
              "</table>\n",
              "</div>"
            ],
            "text/plain": [
              "   0  1  2\n",
              "0  1  2  3\n",
              "1  4  5  6"
            ]
          },
          "metadata": {
            "tags": []
          },
          "execution_count": 13
        }
      ]
    },
    {
      "cell_type": "markdown",
      "metadata": {
        "id": "6j4ThXloJpxv",
        "colab_type": "text"
      },
      "source": [
        " **Creating** **Arrays**"
      ]
    },
    {
      "cell_type": "code",
      "metadata": {
        "id": "YaBxBaILJsQo",
        "colab_type": "code",
        "outputId": "736326a6-00a4-488d-c2b3-875ec6c3e733",
        "colab": {
          "base_uri": "https://localhost:8080/",
          "height": 34
        }
      },
      "source": [
        "sample_array=np.array([1,2,3])\n",
        "sample_array"
      ],
      "execution_count": 0,
      "outputs": [
        {
          "output_type": "execute_result",
          "data": {
            "text/plain": [
              "array([1, 2, 3])"
            ]
          },
          "metadata": {
            "tags": []
          },
          "execution_count": 14
        }
      ]
    },
    {
      "cell_type": "code",
      "metadata": {
        "id": "VIrbdPywKmuQ",
        "colab_type": "code",
        "outputId": "308a0310-a744-4c04-c672-4f68ae298689",
        "colab": {
          "base_uri": "https://localhost:8080/",
          "height": 68
        }
      },
      "source": [
        "#array full of ones\n",
        "ones = np.ones((3,3))\n",
        "ones"
      ],
      "execution_count": 0,
      "outputs": [
        {
          "output_type": "execute_result",
          "data": {
            "text/plain": [
              "array([[1., 1., 1.],\n",
              "       [1., 1., 1.],\n",
              "       [1., 1., 1.]])"
            ]
          },
          "metadata": {
            "tags": []
          },
          "execution_count": 21
        }
      ]
    },
    {
      "cell_type": "code",
      "metadata": {
        "id": "SlV009jlLag6",
        "colab_type": "code",
        "outputId": "71e285cd-0dcc-4d84-f9a8-11020eafa733",
        "colab": {
          "base_uri": "https://localhost:8080/",
          "height": 68
        }
      },
      "source": [
        "#array of zeros\n",
        "zeros=np.zeros((3,3))\n",
        "zeros"
      ],
      "execution_count": 0,
      "outputs": [
        {
          "output_type": "execute_result",
          "data": {
            "text/plain": [
              "array([[0., 0., 0.],\n",
              "       [0., 0., 0.],\n",
              "       [0., 0., 0.]])"
            ]
          },
          "metadata": {
            "tags": []
          },
          "execution_count": 24
        }
      ]
    },
    {
      "cell_type": "code",
      "metadata": {
        "id": "d6LhmGdBLjUf",
        "colab_type": "code",
        "outputId": "c568f421-12be-4d85-b873-df7c9affbafb",
        "colab": {
          "base_uri": "https://localhost:8080/",
          "height": 34
        }
      },
      "source": [
        "#arange function\n",
        "range_array=np.arange(0,10,3)\n",
        "range_array"
      ],
      "execution_count": 0,
      "outputs": [
        {
          "output_type": "execute_result",
          "data": {
            "text/plain": [
              "array([0, 3, 6, 9])"
            ]
          },
          "metadata": {
            "tags": []
          },
          "execution_count": 25
        }
      ]
    },
    {
      "cell_type": "code",
      "metadata": {
        "id": "KOR7Y8XN_cCa",
        "colab_type": "code",
        "outputId": "b8a606fa-c3b9-4224-d77d-a034fadf060a",
        "colab": {
          "base_uri": "https://localhost:8080/",
          "height": 68
        }
      },
      "source": [
        "#random numbers\n",
        "random_array = np.random.randint(0,10,size=(3,3,))\n",
        "random_array"
      ],
      "execution_count": 0,
      "outputs": [
        {
          "output_type": "execute_result",
          "data": {
            "text/plain": [
              "array([[1, 9, 8],\n",
              "       [6, 0, 3],\n",
              "       [4, 2, 6]])"
            ]
          },
          "metadata": {
            "tags": []
          },
          "execution_count": 4
        }
      ]
    },
    {
      "cell_type": "code",
      "metadata": {
        "id": "d-yjMAq4_1O2",
        "colab_type": "code",
        "outputId": "911306d7-c93d-46ab-c897-df51ffaf318a",
        "colab": {
          "base_uri": "https://localhost:8080/",
          "height": 34
        }
      },
      "source": [
        "# dimensions\n",
        "random_array.size"
      ],
      "execution_count": 0,
      "outputs": [
        {
          "output_type": "execute_result",
          "data": {
            "text/plain": [
              "9"
            ]
          },
          "metadata": {
            "tags": []
          },
          "execution_count": 5
        }
      ]
    },
    {
      "cell_type": "code",
      "metadata": {
        "id": "lue8LINH_-nz",
        "colab_type": "code",
        "outputId": "912b1f67-a245-4e77-cc7f-d9f8b1b2a5ac",
        "colab": {
          "base_uri": "https://localhost:8080/",
          "height": 34
        }
      },
      "source": [
        "random_array.shape"
      ],
      "execution_count": 0,
      "outputs": [
        {
          "output_type": "execute_result",
          "data": {
            "text/plain": [
              "(3, 3)"
            ]
          },
          "metadata": {
            "tags": []
          },
          "execution_count": 6
        }
      ]
    },
    {
      "cell_type": "code",
      "metadata": {
        "id": "r25Rw8bxAH1i",
        "colab_type": "code",
        "outputId": "224a0b1a-39b0-4de7-b385-26e5c04d9227",
        "colab": {
          "base_uri": "https://localhost:8080/",
          "height": 68
        }
      },
      "source": [
        "#random matrices\n",
        "random_array_2=np.random.random(size=(3,5))\n",
        "random_array_2"
      ],
      "execution_count": 0,
      "outputs": [
        {
          "output_type": "execute_result",
          "data": {
            "text/plain": [
              "array([[0.01867702, 0.16478695, 0.13828359, 0.2991667 , 0.57167081],\n",
              "       [0.69746747, 0.71496946, 0.51735431, 0.36226079, 0.77878356],\n",
              "       [0.63732836, 0.99385111, 0.08010227, 0.50603557, 0.04562636]])"
            ]
          },
          "metadata": {
            "tags": []
          },
          "execution_count": 4
        }
      ]
    },
    {
      "cell_type": "code",
      "metadata": {
        "id": "ub6L7S5jJ_PH",
        "colab_type": "code",
        "outputId": "7c49797e-1de4-4c28-e0dc-af0a23abc516",
        "colab": {
          "base_uri": "https://localhost:8080/",
          "height": 102
        }
      },
      "source": [
        "#using random seed\n",
        "np.random.seed(10)\n",
        "random_array_3=np.random.randint(1,10,size=(5,3))\n",
        "random_array_3"
      ],
      "execution_count": 0,
      "outputs": [
        {
          "output_type": "execute_result",
          "data": {
            "text/plain": [
              "array([[9, 9, 3],\n",
              "       [7, 3, 9],\n",
              "       [9, 7, 7],\n",
              "       [6, 7, 1],\n",
              "       [1, 7, 2]])"
            ]
          },
          "metadata": {
            "tags": []
          },
          "execution_count": 10
        }
      ]
    },
    {
      "cell_type": "code",
      "metadata": {
        "colab_type": "code",
        "outputId": "6513a3f2-7645-4753-d1e7-0edd286d88a1",
        "id": "ioRzws0JMync",
        "colab": {
          "base_uri": "https://localhost:8080/",
          "height": 34
        }
      },
      "source": [
        "#finding unique elements of an array\n",
        "np.unique(random_array_3)"
      ],
      "execution_count": 0,
      "outputs": [
        {
          "output_type": "execute_result",
          "data": {
            "text/plain": [
              "array([1, 2, 3, 6, 7, 9])"
            ]
          },
          "metadata": {
            "tags": []
          },
          "execution_count": 11
        }
      ]
    },
    {
      "cell_type": "markdown",
      "metadata": {
        "id": "Udoo9grMMzjA",
        "colab_type": "text"
      },
      "source": [
        "Viewing and slicing arrays"
      ]
    },
    {
      "cell_type": "code",
      "metadata": {
        "id": "Gi-wxo0UM5u1",
        "colab_type": "code",
        "outputId": "d07f0926-2e78-4e45-f132-811913de97ce",
        "colab": {
          "base_uri": "https://localhost:8080/",
          "height": 34
        }
      },
      "source": [
        "a1"
      ],
      "execution_count": 0,
      "outputs": [
        {
          "output_type": "execute_result",
          "data": {
            "text/plain": [
              "array([1.1, 2. , 3. , 5. ])"
            ]
          },
          "metadata": {
            "tags": []
          },
          "execution_count": 16
        }
      ]
    },
    {
      "cell_type": "code",
      "metadata": {
        "id": "LkUJh-yxNMTB",
        "colab_type": "code",
        "outputId": "dd67d6ce-bdf3-47ca-e583-9d988199b57d",
        "colab": {
          "base_uri": "https://localhost:8080/",
          "height": 34
        }
      },
      "source": [
        "a1[0]"
      ],
      "execution_count": 0,
      "outputs": [
        {
          "output_type": "execute_result",
          "data": {
            "text/plain": [
              "1.1"
            ]
          },
          "metadata": {
            "tags": []
          },
          "execution_count": 17
        }
      ]
    },
    {
      "cell_type": "code",
      "metadata": {
        "id": "wzlJDCh0NPEf",
        "colab_type": "code",
        "outputId": "414205ba-f412-41b0-b0f0-1342f276dbfc",
        "colab": {
          "base_uri": "https://localhost:8080/",
          "height": 34
        }
      },
      "source": [
        "#1st 2 elements of an array\n",
        "a1[:2]"
      ],
      "execution_count": 0,
      "outputs": [
        {
          "output_type": "execute_result",
          "data": {
            "text/plain": [
              "array([1.1, 2. ])"
            ]
          },
          "metadata": {
            "tags": []
          },
          "execution_count": 18
        }
      ]
    },
    {
      "cell_type": "code",
      "metadata": {
        "id": "sA1_265pNb5p",
        "colab_type": "code",
        "outputId": "10015980-80f7-46df-9fee-097acaf1f805",
        "colab": {
          "base_uri": "https://localhost:8080/",
          "height": 34
        }
      },
      "source": [
        "a1[0:3]"
      ],
      "execution_count": 0,
      "outputs": [
        {
          "output_type": "execute_result",
          "data": {
            "text/plain": [
              "array([1.1, 2. , 3. ])"
            ]
          },
          "metadata": {
            "tags": []
          },
          "execution_count": 19
        },
        {
          "output_type": "stream",
          "text": [
            "ERROR! Session/line number was not unique in database. History logging moved to new session 59\n"
          ],
          "name": "stdout"
        }
      ]
    },
    {
      "cell_type": "code",
      "metadata": {
        "id": "dBMy9Qt7ZK_h",
        "colab_type": "code",
        "outputId": "1e9531fa-96df-4935-c2ac-a959997ac0f1",
        "colab": {
          "base_uri": "https://localhost:8080/",
          "height": 51
        }
      },
      "source": [
        "a2"
      ],
      "execution_count": 0,
      "outputs": [
        {
          "output_type": "execute_result",
          "data": {
            "text/plain": [
              "array([[1, 2, 3],\n",
              "       [4, 5, 6]])"
            ]
          },
          "metadata": {
            "tags": []
          },
          "execution_count": 20
        }
      ]
    },
    {
      "cell_type": "code",
      "metadata": {
        "id": "u7j82YnWZOAh",
        "colab_type": "code",
        "outputId": "6096aa98-8b74-422b-b6a5-b48c2cac6cc8",
        "colab": {
          "base_uri": "https://localhost:8080/",
          "height": 34
        }
      },
      "source": [
        "a2[0]"
      ],
      "execution_count": 0,
      "outputs": [
        {
          "output_type": "execute_result",
          "data": {
            "text/plain": [
              "array([1, 2, 3])"
            ]
          },
          "metadata": {
            "tags": []
          },
          "execution_count": 21
        }
      ]
    },
    {
      "cell_type": "code",
      "metadata": {
        "id": "jR5vu7doZRcj",
        "colab_type": "code",
        "outputId": "857d3646-e292-4c16-d999-8234c8095418",
        "colab": {
          "base_uri": "https://localhost:8080/",
          "height": 51
        }
      },
      "source": [
        "a2[:2]"
      ],
      "execution_count": 0,
      "outputs": [
        {
          "output_type": "execute_result",
          "data": {
            "text/plain": [
              "array([[1, 2, 3],\n",
              "       [4, 5, 6]])"
            ]
          },
          "metadata": {
            "tags": []
          },
          "execution_count": 26
        }
      ]
    },
    {
      "cell_type": "code",
      "metadata": {
        "id": "QmevqN9aZjF9",
        "colab_type": "code",
        "outputId": "83658333-593a-4970-83e6-e464f3efd9f9",
        "colab": {
          "base_uri": "https://localhost:8080/",
          "height": 68
        }
      },
      "source": [
        "a3"
      ],
      "execution_count": 0,
      "outputs": [
        {
          "output_type": "execute_result",
          "data": {
            "text/plain": [
              "array([[[1, 2, 3],\n",
              "        [4, 5, 6],\n",
              "        [7, 8, 9]]])"
            ]
          },
          "metadata": {
            "tags": []
          },
          "execution_count": 27
        }
      ]
    },
    {
      "cell_type": "code",
      "metadata": {
        "id": "ot9XVLB3ZpEe",
        "colab_type": "code",
        "outputId": "4197d711-bc35-4b06-c526-ed2c484f2c6f",
        "colab": {
          "base_uri": "https://localhost:8080/",
          "height": 85
        }
      },
      "source": [
        "a4=np.array([[[1,2,3],[4,5,6],[7,8,9]],[10,11,12],[12,13,14],[15,16,17]])\n",
        "a4"
      ],
      "execution_count": 0,
      "outputs": [
        {
          "output_type": "execute_result",
          "data": {
            "text/plain": [
              "array([[list([1, 2, 3]), list([4, 5, 6]), list([7, 8, 9])],\n",
              "       [10, 11, 12],\n",
              "       [12, 13, 14],\n",
              "       [15, 16, 17]], dtype=object)"
            ]
          },
          "metadata": {
            "tags": []
          },
          "execution_count": 35
        }
      ]
    },
    {
      "cell_type": "code",
      "metadata": {
        "id": "BaIuxPWdapXX",
        "colab_type": "code",
        "outputId": "e1a5a58f-1ae2-46cc-f087-f12e571edebc",
        "colab": {
          "base_uri": "https://localhost:8080/",
          "height": 34
        }
      },
      "source": [
        "a4[:0]"
      ],
      "execution_count": 0,
      "outputs": [
        {
          "output_type": "execute_result",
          "data": {
            "text/plain": [
              "array([], shape=(0, 3), dtype=object)"
            ]
          },
          "metadata": {
            "tags": []
          },
          "execution_count": 38
        }
      ]
    },
    {
      "cell_type": "code",
      "metadata": {
        "id": "QVjWynf5auDf",
        "colab_type": "code",
        "colab": {}
      },
      "source": [
        "a3 = np.array([[[1, 2, 3],\n",
        "                [4, 5, 6],\n",
        "                [7, 8, 9]],\n",
        "                [[10, 11, 12],\n",
        "                 [13, 14, 15],\n",
        "                 [16, 17, 18]]])"
      ],
      "execution_count": 0,
      "outputs": []
    },
    {
      "cell_type": "code",
      "metadata": {
        "id": "-cS64VN4bhBy",
        "colab_type": "code",
        "outputId": "657cc83d-f74a-456c-e087-b18585f2ba2b",
        "colab": {
          "base_uri": "https://localhost:8080/",
          "height": 68
        }
      },
      "source": [
        "a3[:1]"
      ],
      "execution_count": 0,
      "outputs": [
        {
          "output_type": "execute_result",
          "data": {
            "text/plain": [
              "array([[[1, 2, 3],\n",
              "        [4, 5, 6],\n",
              "        [7, 8, 9]]])"
            ]
          },
          "metadata": {
            "tags": []
          },
          "execution_count": 46
        }
      ]
    },
    {
      "cell_type": "code",
      "metadata": {
        "id": "_PcLBpjzb1OD",
        "colab_type": "code",
        "outputId": "68464bde-7662-4dde-894a-aa69e9b40653",
        "colab": {
          "base_uri": "https://localhost:8080/",
          "height": 34
        }
      },
      "source": [
        "a3[:1,:1]"
      ],
      "execution_count": 0,
      "outputs": [
        {
          "output_type": "execute_result",
          "data": {
            "text/plain": [
              "array([[[1, 2, 3]]])"
            ]
          },
          "metadata": {
            "tags": []
          },
          "execution_count": 48
        }
      ]
    },
    {
      "cell_type": "code",
      "metadata": {
        "id": "679izuufb99-",
        "colab_type": "code",
        "outputId": "b42af518-770b-4de0-fc48-bd357d3297bf",
        "colab": {
          "base_uri": "https://localhost:8080/",
          "height": 136
        }
      },
      "source": [
        "a3[:2,:,:2]"
      ],
      "execution_count": 0,
      "outputs": [
        {
          "output_type": "execute_result",
          "data": {
            "text/plain": [
              "array([[[ 1,  2],\n",
              "        [ 4,  5],\n",
              "        [ 7,  8]],\n",
              "\n",
              "       [[10, 11],\n",
              "        [13, 14],\n",
              "        [16, 17]]])"
            ]
          },
          "metadata": {
            "tags": []
          },
          "execution_count": 49
        }
      ]
    },
    {
      "cell_type": "code",
      "metadata": {
        "id": "BCkDUZZlcgEv",
        "colab_type": "code",
        "colab": {}
      },
      "source": [
        "#correct array in video explanation of anatomy of an array\n",
        "a3 = np.array([[[1, 2, 3],\n",
        "                [4, 5, 6]],\n",
        "               [[7, 8, 9],\n",
        "                [10, 11, 12]],\n",
        "               [[13, 14, 15],\n",
        "                [16, 17, 18]]])"
      ],
      "execution_count": 0,
      "outputs": []
    },
    {
      "cell_type": "code",
      "metadata": {
        "id": "HHvQdEgxf7mC",
        "colab_type": "code",
        "outputId": "32f131ea-aedc-4be6-d1d6-22f6c8214837",
        "colab": {
          "base_uri": "https://localhost:8080/",
          "height": 34
        }
      },
      "source": [
        "a3.shape"
      ],
      "execution_count": 0,
      "outputs": [
        {
          "output_type": "execute_result",
          "data": {
            "text/plain": [
              "(3, 2, 3)"
            ]
          },
          "metadata": {
            "tags": []
          },
          "execution_count": 54
        }
      ]
    },
    {
      "cell_type": "code",
      "metadata": {
        "id": "Q_0mbGWciJG6",
        "colab_type": "code",
        "outputId": "33352439-f3bd-4aeb-e6d1-b4ae0cf95fff",
        "colab": {
          "base_uri": "https://localhost:8080/",
          "height": 153
        }
      },
      "source": [
        "a3[:,:2,:]"
      ],
      "execution_count": 0,
      "outputs": [
        {
          "output_type": "execute_result",
          "data": {
            "text/plain": [
              "array([[[ 1,  2,  3],\n",
              "        [ 4,  5,  6]],\n",
              "\n",
              "       [[ 7,  8,  9],\n",
              "        [10, 11, 12]],\n",
              "\n",
              "       [[13, 14, 15],\n",
              "        [16, 17, 18]]])"
            ]
          },
          "metadata": {
            "tags": []
          },
          "execution_count": 55
        }
      ]
    },
    {
      "cell_type": "code",
      "metadata": {
        "id": "2cj0D9eeialp",
        "colab_type": "code",
        "outputId": "11bfd6ab-c499-4ffd-f8c9-bf4abbda765a",
        "colab": {
          "base_uri": "https://localhost:8080/",
          "height": 102
        }
      },
      "source": [
        "a3[:,:1,:]"
      ],
      "execution_count": 0,
      "outputs": [
        {
          "output_type": "execute_result",
          "data": {
            "text/plain": [
              "array([[[ 1,  2,  3]],\n",
              "\n",
              "       [[ 7,  8,  9]],\n",
              "\n",
              "       [[13, 14, 15]]])"
            ]
          },
          "metadata": {
            "tags": []
          },
          "execution_count": 56
        }
      ]
    },
    {
      "cell_type": "code",
      "metadata": {
        "id": "MhAWt82Ziey4",
        "colab_type": "code",
        "outputId": "d0d9832f-972e-41b7-d792-e48a8948089b",
        "colab": {
          "base_uri": "https://localhost:8080/",
          "height": 68
        }
      },
      "source": [
        "a3[:,:,2]"
      ],
      "execution_count": 0,
      "outputs": [
        {
          "output_type": "execute_result",
          "data": {
            "text/plain": [
              "array([[ 3,  6],\n",
              "       [ 9, 12],\n",
              "       [15, 18]])"
            ]
          },
          "metadata": {
            "tags": []
          },
          "execution_count": 61
        }
      ]
    },
    {
      "cell_type": "code",
      "metadata": {
        "id": "Og0F09g-i5jS",
        "colab_type": "code",
        "outputId": "3a93a369-a432-4504-e662-eaa6cf9bb53b",
        "colab": {
          "base_uri": "https://localhost:8080/",
          "height": 68
        }
      },
      "source": [
        "a3[:,:,1]"
      ],
      "execution_count": 0,
      "outputs": [
        {
          "output_type": "execute_result",
          "data": {
            "text/plain": [
              "array([[ 2,  5],\n",
              "       [ 8, 11],\n",
              "       [14, 17]])"
            ]
          },
          "metadata": {
            "tags": []
          },
          "execution_count": 62
        }
      ]
    },
    {
      "cell_type": "code",
      "metadata": {
        "id": "2KKy17BAi89Q",
        "colab_type": "code",
        "outputId": "83d7651a-b418-4f5b-a261-9dc1229b983f",
        "colab": {
          "base_uri": "https://localhost:8080/",
          "height": 68
        }
      },
      "source": [
        "a3[:,:,0]"
      ],
      "execution_count": 0,
      "outputs": [
        {
          "output_type": "execute_result",
          "data": {
            "text/plain": [
              "array([[ 1,  4],\n",
              "       [ 7, 10],\n",
              "       [13, 16]])"
            ]
          },
          "metadata": {
            "tags": []
          },
          "execution_count": 63
        }
      ]
    },
    {
      "cell_type": "code",
      "metadata": {
        "id": "a_ft_nx_jEQc",
        "colab_type": "code",
        "outputId": "ddc6d505-de46-4ca9-fa05-d01df4ce63d5",
        "colab": {
          "base_uri": "https://localhost:8080/",
          "height": 102
        }
      },
      "source": [
        "a3[:,:1,:1]"
      ],
      "execution_count": 0,
      "outputs": [
        {
          "output_type": "execute_result",
          "data": {
            "text/plain": [
              "array([[[ 1]],\n",
              "\n",
              "       [[ 7]],\n",
              "\n",
              "       [[13]]])"
            ]
          },
          "metadata": {
            "tags": []
          },
          "execution_count": 67
        }
      ]
    },
    {
      "cell_type": "markdown",
      "metadata": {
        "id": "rTzgETW1kSlw",
        "colab_type": "text"
      },
      "source": [
        "Manipulating arrays"
      ]
    },
    {
      "cell_type": "code",
      "metadata": {
        "id": "ifxDSad3M3wy",
        "colab_type": "code",
        "outputId": "4e00f542-07d9-4b4d-b58d-6b1d0a03b67d",
        "colab": {
          "base_uri": "https://localhost:8080/",
          "height": 34
        }
      },
      "source": [
        "# array addition\n",
        "a1*2"
      ],
      "execution_count": 0,
      "outputs": [
        {
          "output_type": "execute_result",
          "data": {
            "text/plain": [
              "array([ 2.2,  4. ,  6. , 10. ])"
            ]
          },
          "metadata": {
            "tags": []
          },
          "execution_count": 70
        }
      ]
    },
    {
      "cell_type": "code",
      "metadata": {
        "id": "ND3gj1NaNZdq",
        "colab_type": "code",
        "outputId": "cc40401d-c7d8-4507-f5c7-a968de444505",
        "colab": {
          "base_uri": "https://localhost:8080/",
          "height": 51
        }
      },
      "source": [
        "# array division\n",
        "a2/2"
      ],
      "execution_count": 0,
      "outputs": [
        {
          "output_type": "execute_result",
          "data": {
            "text/plain": [
              "array([[0.5, 1. , 1.5],\n",
              "       [2. , 2.5, 3. ]])"
            ]
          },
          "metadata": {
            "tags": []
          },
          "execution_count": 71
        }
      ]
    },
    {
      "cell_type": "code",
      "metadata": {
        "id": "P-VuyDN1NfvU",
        "colab_type": "code",
        "outputId": "b7e1173c-6dfc-4819-8a6c-fda9e9ca4a06",
        "colab": {
          "base_uri": "https://localhost:8080/",
          "height": 153
        }
      },
      "source": [
        "a3**2"
      ],
      "execution_count": 0,
      "outputs": [
        {
          "output_type": "execute_result",
          "data": {
            "text/plain": [
              "array([[[  1,   4,   9],\n",
              "        [ 16,  25,  36]],\n",
              "\n",
              "       [[ 49,  64,  81],\n",
              "        [100, 121, 144]],\n",
              "\n",
              "       [[169, 196, 225],\n",
              "        [256, 289, 324]]])"
            ]
          },
          "metadata": {
            "tags": []
          },
          "execution_count": 73
        }
      ]
    },
    {
      "cell_type": "code",
      "metadata": {
        "id": "t91Pe1DQNwKo",
        "colab_type": "code",
        "outputId": "f02a2bff-f7d2-4c9f-a3df-d96d7c9ad8ed",
        "colab": {
          "base_uri": "https://localhost:8080/",
          "height": 51
        }
      },
      "source": [
        "np.square(a2)"
      ],
      "execution_count": 0,
      "outputs": [
        {
          "output_type": "execute_result",
          "data": {
            "text/plain": [
              "array([[ 1,  4,  9],\n",
              "       [16, 25, 36]])"
            ]
          },
          "metadata": {
            "tags": []
          },
          "execution_count": 74
        }
      ]
    },
    {
      "cell_type": "code",
      "metadata": {
        "id": "uNb6fs-pN8QF",
        "colab_type": "code",
        "outputId": "2d7f978b-b7f8-454e-9a72-8535ed21c5d8",
        "colab": {
          "base_uri": "https://localhost:8080/",
          "height": 153
        }
      },
      "source": [
        "#mod\n",
        "a3%2"
      ],
      "execution_count": 0,
      "outputs": [
        {
          "output_type": "execute_result",
          "data": {
            "text/plain": [
              "array([[[1, 0, 1],\n",
              "        [0, 1, 0]],\n",
              "\n",
              "       [[1, 0, 1],\n",
              "        [0, 1, 0]],\n",
              "\n",
              "       [[1, 0, 1],\n",
              "        [0, 1, 0]]])"
            ]
          },
          "metadata": {
            "tags": []
          },
          "execution_count": 76
        }
      ]
    },
    {
      "cell_type": "code",
      "metadata": {
        "id": "4xbyJXugOF8Q",
        "colab_type": "code",
        "outputId": "4f13f708-9cab-44de-f426-3666c80d5002",
        "colab": {
          "base_uri": "https://localhost:8080/",
          "height": 34
        }
      },
      "source": [
        "#exponential\n",
        "np.exp(a1)"
      ],
      "execution_count": 0,
      "outputs": [
        {
          "output_type": "execute_result",
          "data": {
            "text/plain": [
              "array([  3.00416602,   7.3890561 ,  20.08553692, 148.4131591 ])"
            ]
          },
          "metadata": {
            "tags": []
          },
          "execution_count": 77
        }
      ]
    },
    {
      "cell_type": "code",
      "metadata": {
        "id": "QEioZV9ROLof",
        "colab_type": "code",
        "outputId": "992fee91-a944-43b7-d3b2-cffa24796909",
        "colab": {
          "base_uri": "https://localhost:8080/",
          "height": 51
        }
      },
      "source": [
        "#log\n",
        "np.log(a2)"
      ],
      "execution_count": 0,
      "outputs": [
        {
          "output_type": "execute_result",
          "data": {
            "text/plain": [
              "array([[0.        , 0.69314718, 1.09861229],\n",
              "       [1.38629436, 1.60943791, 1.79175947]])"
            ]
          },
          "metadata": {
            "tags": []
          },
          "execution_count": 78
        }
      ]
    },
    {
      "cell_type": "markdown",
      "metadata": {
        "id": "NeHb49h9QaHb",
        "colab_type": "text"
      },
      "source": [
        "Manipulating arrays-2"
      ]
    },
    {
      "cell_type": "code",
      "metadata": {
        "id": "hK_Hr5uWQevh",
        "colab_type": "code",
        "outputId": "bc12b630-49f8-4bfe-cd0b-2b44e7435732",
        "colab": {
          "base_uri": "https://localhost:8080/",
          "height": 34
        }
      },
      "source": [
        "#python sum\n",
        "sum(a2)"
      ],
      "execution_count": 0,
      "outputs": [
        {
          "output_type": "execute_result",
          "data": {
            "text/plain": [
              "array([5, 7, 9])"
            ]
          },
          "metadata": {
            "tags": []
          },
          "execution_count": 79
        }
      ]
    },
    {
      "cell_type": "code",
      "metadata": {
        "id": "VPxub-01Qinv",
        "colab_type": "code",
        "outputId": "0e2c335d-6d9d-47b8-eb4c-82e962bb97c7",
        "colab": {
          "base_uri": "https://localhost:8080/",
          "height": 34
        }
      },
      "source": [
        "#numpy sum\n",
        "np.sum(a2)"
      ],
      "execution_count": 0,
      "outputs": [
        {
          "output_type": "execute_result",
          "data": {
            "text/plain": [
              "21"
            ]
          },
          "metadata": {
            "tags": []
          },
          "execution_count": 80
        }
      ]
    },
    {
      "cell_type": "code",
      "metadata": {
        "id": "C--ncTX3QwUq",
        "colab_type": "code",
        "colab": {}
      },
      "source": [
        "massive=np.random.rand(10000)"
      ],
      "execution_count": 0,
      "outputs": []
    },
    {
      "cell_type": "code",
      "metadata": {
        "id": "-VnaD6fzQ1-u",
        "colab_type": "code",
        "outputId": "255e8d58-0490-4e03-bb7a-509556bb7cf2",
        "colab": {
          "base_uri": "https://localhost:8080/",
          "height": 442
        }
      },
      "source": [
        "massive[:100]"
      ],
      "execution_count": 0,
      "outputs": [
        {
          "output_type": "execute_result",
          "data": {
            "text/plain": [
              "array([5.87130925e-01, 1.49471337e-01, 1.71238598e-01, 3.97164523e-01,\n",
              "       6.37951564e-01, 3.72519952e-01, 2.40676134e-03, 5.48816356e-01,\n",
              "       1.26971841e-01, 7.97926806e-02, 2.35038596e-01, 6.59964947e-01,\n",
              "       2.14953192e-01, 2.03046616e-01, 3.82865111e-01, 2.24872802e-01,\n",
              "       1.14648799e-01, 5.83017052e-01, 2.32641063e-01, 5.56518188e-01,\n",
              "       5.23810885e-01, 3.50958224e-01, 7.05331613e-01, 8.20703741e-01,\n",
              "       1.34563003e-01, 6.04726160e-01, 2.83148276e-01, 5.06407820e-01,\n",
              "       3.84604283e-02, 3.32444096e-01, 2.72531491e-04, 6.64655466e-01,\n",
              "       3.77440665e-01, 7.47581968e-01, 1.40575782e-01, 3.88049453e-01,\n",
              "       8.66491641e-01, 9.56853326e-01, 4.86553669e-01, 1.05933059e-01,\n",
              "       3.40037289e-01, 8.35570794e-01, 4.65441626e-01, 9.28561081e-02,\n",
              "       8.54694143e-01, 3.37258186e-01, 6.06146751e-01, 1.12664601e-01,\n",
              "       5.43920447e-01, 7.20798582e-01, 8.65815366e-01, 1.46701124e-01,\n",
              "       1.03381070e-01, 4.90554679e-01, 2.91795557e-02, 5.94860950e-01,\n",
              "       2.05845476e-01, 2.02802974e-01, 8.44125875e-01, 6.15663765e-02,\n",
              "       4.99230689e-01, 2.48466979e-01, 3.27144028e-01, 2.91608835e-03,\n",
              "       2.95442135e-01, 9.86889122e-01, 2.38332715e-01, 7.33396475e-01,\n",
              "       9.62196888e-01, 8.15455788e-01, 6.94226978e-01, 2.10696094e-01,\n",
              "       5.17844068e-01, 9.49669991e-01, 6.95973867e-01, 9.04664735e-01,\n",
              "       6.47892430e-01, 3.45302149e-01, 6.54978571e-02, 2.20627863e-01,\n",
              "       1.37373246e-01, 7.44295925e-01, 3.46690659e-01, 5.77664255e-01,\n",
              "       1.68352936e-01, 3.79717043e-02, 8.17176704e-01, 8.12464853e-01,\n",
              "       1.88435660e-01, 3.73062398e-01, 7.44192136e-01, 1.86247774e-01,\n",
              "       4.13797806e-01, 2.31005320e-01, 6.53622929e-01, 7.64374761e-01,\n",
              "       8.34879131e-01, 2.12212852e-01, 9.61966601e-01, 2.61140343e-01])"
            ]
          },
          "metadata": {
            "tags": []
          },
          "execution_count": 82
        }
      ]
    },
    {
      "cell_type": "code",
      "metadata": {
        "id": "zsNsA1j4Q_xn",
        "colab_type": "code",
        "outputId": "c4e43ea3-ab62-4ba1-b4fa-c6309663c336",
        "colab": {
          "base_uri": "https://localhost:8080/",
          "height": 68
        }
      },
      "source": [
        "#If you are working with pythong datatypes, use python methods, if using numpy data types , use numpy methods\n",
        "#addition of the elements of this array with python sum and numpy sum\n",
        "%timeit sum(massive)#python sum\n",
        "%timeit np.sum(massive)#numpy sum"
      ],
      "execution_count": 0,
      "outputs": [
        {
          "output_type": "stream",
          "text": [
            "1000 loops, best of 3: 1.58 ms per loop\n",
            "The slowest run took 8.34 times longer than the fastest. This could mean that an intermediate result is being cached.\n",
            "100000 loops, best of 3: 7.43 µs per loop\n"
          ],
          "name": "stdout"
        }
      ]
    },
    {
      "cell_type": "code",
      "metadata": {
        "id": "S98d88HFShyF",
        "colab_type": "code",
        "outputId": "b9228707-5d03-47e7-adde-9aae7f648335",
        "colab": {
          "base_uri": "https://localhost:8080/",
          "height": 34
        }
      },
      "source": [
        "#other math measures\n",
        "np.mean(a2)"
      ],
      "execution_count": 0,
      "outputs": [
        {
          "output_type": "execute_result",
          "data": {
            "text/plain": [
              "3.5"
            ]
          },
          "metadata": {
            "tags": []
          },
          "execution_count": 85
        }
      ]
    },
    {
      "cell_type": "code",
      "metadata": {
        "id": "-LZdR9_OSqFD",
        "colab_type": "code",
        "outputId": "ed586bf3-082b-4751-9a94-f9a953d09e9f",
        "colab": {
          "base_uri": "https://localhost:8080/",
          "height": 34
        }
      },
      "source": [
        "np.mean(a2,axis=0)"
      ],
      "execution_count": 0,
      "outputs": [
        {
          "output_type": "execute_result",
          "data": {
            "text/plain": [
              "array([2.5, 3.5, 4.5])"
            ]
          },
          "metadata": {
            "tags": []
          },
          "execution_count": 89
        }
      ]
    },
    {
      "cell_type": "code",
      "metadata": {
        "id": "oItM4DucS0ry",
        "colab_type": "code",
        "outputId": "b268a8a0-0e47-4aee-8ace-eede6820cfa3",
        "colab": {
          "base_uri": "https://localhost:8080/",
          "height": 34
        }
      },
      "source": [
        "np.min(a2)"
      ],
      "execution_count": 0,
      "outputs": [
        {
          "output_type": "execute_result",
          "data": {
            "text/plain": [
              "1"
            ]
          },
          "metadata": {
            "tags": []
          },
          "execution_count": 90
        }
      ]
    },
    {
      "cell_type": "code",
      "metadata": {
        "id": "bflfWIgOS4u9",
        "colab_type": "code",
        "outputId": "786037c1-a754-41b7-995f-550a8db1656e",
        "colab": {
          "base_uri": "https://localhost:8080/",
          "height": 34
        }
      },
      "source": [
        "np.max(a3)"
      ],
      "execution_count": 0,
      "outputs": [
        {
          "output_type": "execute_result",
          "data": {
            "text/plain": [
              "18"
            ]
          },
          "metadata": {
            "tags": []
          },
          "execution_count": 91
        }
      ]
    },
    {
      "cell_type": "code",
      "metadata": {
        "id": "POrmGrcqS7Er",
        "colab_type": "code",
        "outputId": "6c268574-5d5e-4a55-c04b-095ebaa68e7f",
        "colab": {
          "base_uri": "https://localhost:8080/",
          "height": 51
        }
      },
      "source": [
        "np.mean(a3,axis=0)"
      ],
      "execution_count": 0,
      "outputs": [
        {
          "output_type": "execute_result",
          "data": {
            "text/plain": [
              "array([[ 7.,  8.,  9.],\n",
              "       [10., 11., 12.]])"
            ]
          },
          "metadata": {
            "tags": []
          },
          "execution_count": 92
        }
      ]
    },
    {
      "cell_type": "code",
      "metadata": {
        "id": "TwKlEqkRTAj4",
        "colab_type": "code",
        "outputId": "6f43d6be-7b27-474c-fca5-28b12704c153",
        "colab": {
          "base_uri": "https://localhost:8080/",
          "height": 34
        }
      },
      "source": [
        "np.var(a2)"
      ],
      "execution_count": 0,
      "outputs": [
        {
          "output_type": "execute_result",
          "data": {
            "text/plain": [
              "2.9166666666666665"
            ]
          },
          "metadata": {
            "tags": []
          },
          "execution_count": 93
        }
      ]
    },
    {
      "cell_type": "code",
      "metadata": {
        "id": "PF_N3LDDTEge",
        "colab_type": "code",
        "outputId": "b4483771-de4c-4a3c-cd4d-6b238a0dbe63",
        "colab": {
          "base_uri": "https://localhost:8080/",
          "height": 34
        }
      },
      "source": [
        "np.std(a2)"
      ],
      "execution_count": 0,
      "outputs": [
        {
          "output_type": "execute_result",
          "data": {
            "text/plain": [
              "1.707825127659933"
            ]
          },
          "metadata": {
            "tags": []
          },
          "execution_count": 94
        }
      ]
    },
    {
      "cell_type": "code",
      "metadata": {
        "id": "VJqoufwJTIST",
        "colab_type": "code",
        "outputId": "86c05ce5-33d7-41c6-d737-2f9713573ceb",
        "colab": {
          "base_uri": "https://localhost:8080/",
          "height": 34
        }
      },
      "source": [
        "np.std(a2)**2"
      ],
      "execution_count": 0,
      "outputs": [
        {
          "output_type": "execute_result",
          "data": {
            "text/plain": [
              "2.9166666666666665"
            ]
          },
          "metadata": {
            "tags": []
          },
          "execution_count": 95
        }
      ]
    },
    {
      "cell_type": "markdown",
      "metadata": {
        "id": "eTbylBS6UTMs",
        "colab_type": "text"
      },
      "source": [
        "Reshape and Transpose"
      ]
    },
    {
      "cell_type": "code",
      "metadata": {
        "id": "9ibxlhDsalpT",
        "colab_type": "code",
        "outputId": "0a7f2c99-31cd-4728-8009-e36d0b260dec",
        "colab": {
          "base_uri": "https://localhost:8080/",
          "height": 51
        }
      },
      "source": [
        "a2,a2.shape"
      ],
      "execution_count": 0,
      "outputs": [
        {
          "output_type": "execute_result",
          "data": {
            "text/plain": [
              "(array([[1, 2, 3],\n",
              "        [4, 5, 6]]), (2, 3))"
            ]
          },
          "metadata": {
            "tags": []
          },
          "execution_count": 97
        }
      ]
    },
    {
      "cell_type": "code",
      "metadata": {
        "id": "U1mvWle6auTm",
        "colab_type": "code",
        "outputId": "b2607910-3a66-426b-a3d7-b1eb6cfd3ad8",
        "colab": {
          "base_uri": "https://localhost:8080/",
          "height": 136
        }
      },
      "source": [
        "a2.reshape(2,3,1)"
      ],
      "execution_count": 0,
      "outputs": [
        {
          "output_type": "execute_result",
          "data": {
            "text/plain": [
              "array([[[1],\n",
              "        [2],\n",
              "        [3]],\n",
              "\n",
              "       [[4],\n",
              "        [5],\n",
              "        [6]]])"
            ]
          },
          "metadata": {
            "tags": []
          },
          "execution_count": 102
        }
      ]
    },
    {
      "cell_type": "code",
      "metadata": {
        "id": "euFgPy-_bPSL",
        "colab_type": "code",
        "outputId": "9071a941-01a5-461a-d1b8-778ecc5bbf9d",
        "colab": {
          "base_uri": "https://localhost:8080/",
          "height": 85
        }
      },
      "source": [
        "#transpose\n",
        "a2,a2.T,a2.shape,a2.T.shape"
      ],
      "execution_count": 0,
      "outputs": [
        {
          "output_type": "execute_result",
          "data": {
            "text/plain": [
              "(array([[1, 2, 3],\n",
              "        [4, 5, 6]]), array([[1, 4],\n",
              "        [2, 5],\n",
              "        [3, 6]]), (2, 3), (3, 2))"
            ]
          },
          "metadata": {
            "tags": []
          },
          "execution_count": 104
        }
      ]
    },
    {
      "cell_type": "markdown",
      "metadata": {
        "id": "AEO3TPJ7fq3k",
        "colab_type": "text"
      },
      "source": [
        "cross product"
      ]
    },
    {
      "cell_type": "code",
      "metadata": {
        "id": "n1bAFcvZfuNe",
        "colab_type": "code",
        "colab": {}
      },
      "source": [
        "mat1=np.random.randint(10,size=(5,3))"
      ],
      "execution_count": 0,
      "outputs": []
    },
    {
      "cell_type": "code",
      "metadata": {
        "id": "4ccN5kHsf810",
        "colab_type": "code",
        "colab": {}
      },
      "source": [
        "mat2=np.random.randint(10,size=(5,3))"
      ],
      "execution_count": 0,
      "outputs": []
    },
    {
      "cell_type": "code",
      "metadata": {
        "id": "mls2HIHFgA7a",
        "colab_type": "code",
        "outputId": "222d1e3c-82ab-45b1-a541-c53eed0459b7",
        "colab": {
          "base_uri": "https://localhost:8080/",
          "height": 34
        }
      },
      "source": [
        "mat1.shape,mat2.shape"
      ],
      "execution_count": 0,
      "outputs": [
        {
          "output_type": "execute_result",
          "data": {
            "text/plain": [
              "((5, 3), (5, 3))"
            ]
          },
          "metadata": {
            "tags": []
          },
          "execution_count": 107
        }
      ]
    },
    {
      "cell_type": "code",
      "metadata": {
        "id": "5BtbtujXgE-i",
        "colab_type": "code",
        "outputId": "c03001f3-5bee-4140-c9c9-19e5f967d17c",
        "colab": {
          "base_uri": "https://localhost:8080/",
          "height": 102
        }
      },
      "source": [
        "mat1"
      ],
      "execution_count": 0,
      "outputs": [
        {
          "output_type": "execute_result",
          "data": {
            "text/plain": [
              "array([[8, 5, 6],\n",
              "       [1, 3, 8],\n",
              "       [5, 6, 9],\n",
              "       [2, 0, 1],\n",
              "       [5, 8, 4]])"
            ]
          },
          "metadata": {
            "tags": []
          },
          "execution_count": 108
        }
      ]
    },
    {
      "cell_type": "code",
      "metadata": {
        "id": "c00S2Iv4gK4v",
        "colab_type": "code",
        "outputId": "4f04012c-92a8-482a-b0d6-deb22254ea4d",
        "colab": {
          "base_uri": "https://localhost:8080/",
          "height": 102
        }
      },
      "source": [
        "mat2"
      ],
      "execution_count": 0,
      "outputs": [
        {
          "output_type": "execute_result",
          "data": {
            "text/plain": [
              "array([[2, 1, 1],\n",
              "       [1, 1, 4],\n",
              "       [2, 3, 3],\n",
              "       [2, 3, 2],\n",
              "       [9, 7, 0]])"
            ]
          },
          "metadata": {
            "tags": []
          },
          "execution_count": 109
        }
      ]
    },
    {
      "cell_type": "code",
      "metadata": {
        "id": "6jUiphbbgNTU",
        "colab_type": "code",
        "outputId": "cd713af1-191d-452f-ae08-8d61fb315c46",
        "colab": {
          "base_uri": "https://localhost:8080/",
          "height": 102
        }
      },
      "source": [
        "mat1*mat2 #simple elementwise product"
      ],
      "execution_count": 0,
      "outputs": [
        {
          "output_type": "execute_result",
          "data": {
            "text/plain": [
              "array([[16,  5,  6],\n",
              "       [ 1,  3, 32],\n",
              "       [10, 18, 27],\n",
              "       [ 4,  0,  2],\n",
              "       [45, 56,  0]])"
            ]
          },
          "metadata": {
            "tags": []
          },
          "execution_count": 110
        }
      ]
    },
    {
      "cell_type": "code",
      "metadata": {
        "id": "tl7IVmhCgUTT",
        "colab_type": "code",
        "outputId": "02bd5c42-bb64-4ebb-fccd-59ff18576326",
        "colab": {
          "base_uri": "https://localhost:8080/",
          "height": 197
        }
      },
      "source": [
        "np.dot(mat1,mat2)"
      ],
      "execution_count": 0,
      "outputs": [
        {
          "output_type": "error",
          "ename": "ValueError",
          "evalue": "ignored",
          "traceback": [
            "\u001b[0;31m---------------------------------------------------------------------------\u001b[0m",
            "\u001b[0;31mValueError\u001b[0m                                Traceback (most recent call last)",
            "\u001b[0;32m<ipython-input-111-ca650ca9bbb3>\u001b[0m in \u001b[0;36m<module>\u001b[0;34m()\u001b[0m\n\u001b[0;32m----> 1\u001b[0;31m \u001b[0mnp\u001b[0m\u001b[0;34m.\u001b[0m\u001b[0mdot\u001b[0m\u001b[0;34m(\u001b[0m\u001b[0mmat1\u001b[0m\u001b[0;34m,\u001b[0m\u001b[0mmat2\u001b[0m\u001b[0;34m)\u001b[0m\u001b[0;34m\u001b[0m\u001b[0;34m\u001b[0m\u001b[0m\n\u001b[0m",
            "\u001b[0;32m<__array_function__ internals>\u001b[0m in \u001b[0;36mdot\u001b[0;34m(*args, **kwargs)\u001b[0m\n",
            "\u001b[0;31mValueError\u001b[0m: shapes (5,3) and (5,3) not aligned: 3 (dim 1) != 5 (dim 0)"
          ]
        }
      ]
    },
    {
      "cell_type": "code",
      "metadata": {
        "id": "jEZAot0XgaL5",
        "colab_type": "code",
        "colab": {}
      },
      "source": [
        "mat2_trans=mat2.T,mat2.T.shape"
      ],
      "execution_count": 0,
      "outputs": []
    },
    {
      "cell_type": "code",
      "metadata": {
        "id": "aEQso1KFgkvv",
        "colab_type": "code",
        "outputId": "307f4fb5-fcb9-4e80-b27d-db48a130acb5",
        "colab": {
          "base_uri": "https://localhost:8080/",
          "height": 68
        }
      },
      "source": [
        "mat2_trans"
      ],
      "execution_count": 0,
      "outputs": [
        {
          "output_type": "execute_result",
          "data": {
            "text/plain": [
              "(array([[2, 1, 2, 2, 9],\n",
              "        [1, 1, 3, 3, 7],\n",
              "        [1, 4, 3, 2, 0]]), (3, 5))"
            ]
          },
          "metadata": {
            "tags": []
          },
          "execution_count": 114
        }
      ]
    },
    {
      "cell_type": "code",
      "metadata": {
        "id": "DaAccyRvgyMx",
        "colab_type": "code",
        "outputId": "42ed14cd-dc0c-49db-e846-b85be965d452",
        "colab": {
          "base_uri": "https://localhost:8080/",
          "height": 102
        }
      },
      "source": [
        "np.dot(mat1,mat2.T)"
      ],
      "execution_count": 0,
      "outputs": [
        {
          "output_type": "execute_result",
          "data": {
            "text/plain": [
              "array([[ 27,  37,  49,  43, 107],\n",
              "       [ 13,  36,  35,  27,  30],\n",
              "       [ 25,  47,  55,  46,  87],\n",
              "       [  5,   6,   7,   6,  18],\n",
              "       [ 22,  29,  46,  42, 101]])"
            ]
          },
          "metadata": {
            "tags": []
          },
          "execution_count": 119
        }
      ]
    },
    {
      "cell_type": "code",
      "metadata": {
        "id": "1zAVehDQhPQZ",
        "colab_type": "code",
        "outputId": "c35fc622-f2b4-43e1-d66b-0c6f142a5c6a",
        "colab": {
          "base_uri": "https://localhost:8080/",
          "height": 34
        }
      },
      "source": [
        "mat1.shape,mat2.shape"
      ],
      "execution_count": 0,
      "outputs": [
        {
          "output_type": "execute_result",
          "data": {
            "text/plain": [
              "((5, 3), (5, 3))"
            ]
          },
          "metadata": {
            "tags": []
          },
          "execution_count": 118
        }
      ]
    },
    {
      "cell_type": "markdown",
      "metadata": {
        "id": "o52MHOzBOON8",
        "colab_type": "text"
      },
      "source": [
        "Peanut butter problem"
      ]
    },
    {
      "cell_type": "code",
      "metadata": {
        "id": "bCHgS_PVORtN",
        "colab_type": "code",
        "outputId": "8353de9c-9518-4112-b5bc-5b63609e23cb",
        "colab": {
          "base_uri": "https://localhost:8080/",
          "height": 102
        }
      },
      "source": [
        "# create a array of sales of peanut butter \n",
        "np.random.seed(0)\n",
        "sales_amounts = np.random.randint(20,size=(5,3))\n",
        "sales_amounts"
      ],
      "execution_count": 0,
      "outputs": [
        {
          "output_type": "execute_result",
          "data": {
            "text/plain": [
              "array([[12, 15,  0],\n",
              "       [ 3,  3,  7],\n",
              "       [ 9, 19, 18],\n",
              "       [ 4,  6, 12],\n",
              "       [ 1,  6,  7]])"
            ]
          },
          "metadata": {
            "tags": []
          },
          "execution_count": 2
        }
      ]
    },
    {
      "cell_type": "code",
      "metadata": {
        "id": "i8HzqXYUOnMG",
        "colab_type": "code",
        "outputId": "258ceca2-638c-461c-a162-fb8b176d39dc",
        "colab": {
          "base_uri": "https://localhost:8080/",
          "height": 204
        }
      },
      "source": [
        "import pandas as pd\n",
        "#create a weekly sales data frame\n",
        "weekly_sales =pd.DataFrame(sales_amounts,index=[\"Monday\",\"Tuesday\",\"Wednesday\",\"Thursday\",\"Friday\"],columns=[\"Almond Butter\",\"Peanut Butter\",\"Cashew Butter\"])\n",
        "weekly_sales"
      ],
      "execution_count": 0,
      "outputs": [
        {
          "output_type": "execute_result",
          "data": {
            "text/html": [
              "<div>\n",
              "<style scoped>\n",
              "    .dataframe tbody tr th:only-of-type {\n",
              "        vertical-align: middle;\n",
              "    }\n",
              "\n",
              "    .dataframe tbody tr th {\n",
              "        vertical-align: top;\n",
              "    }\n",
              "\n",
              "    .dataframe thead th {\n",
              "        text-align: right;\n",
              "    }\n",
              "</style>\n",
              "<table border=\"1\" class=\"dataframe\">\n",
              "  <thead>\n",
              "    <tr style=\"text-align: right;\">\n",
              "      <th></th>\n",
              "      <th>Almond Butter</th>\n",
              "      <th>Peanut Butter</th>\n",
              "      <th>Cashew Butter</th>\n",
              "    </tr>\n",
              "  </thead>\n",
              "  <tbody>\n",
              "    <tr>\n",
              "      <th>Monday</th>\n",
              "      <td>12</td>\n",
              "      <td>15</td>\n",
              "      <td>0</td>\n",
              "    </tr>\n",
              "    <tr>\n",
              "      <th>Tuesday</th>\n",
              "      <td>3</td>\n",
              "      <td>3</td>\n",
              "      <td>7</td>\n",
              "    </tr>\n",
              "    <tr>\n",
              "      <th>Wednesday</th>\n",
              "      <td>9</td>\n",
              "      <td>19</td>\n",
              "      <td>18</td>\n",
              "    </tr>\n",
              "    <tr>\n",
              "      <th>Thursday</th>\n",
              "      <td>4</td>\n",
              "      <td>6</td>\n",
              "      <td>12</td>\n",
              "    </tr>\n",
              "    <tr>\n",
              "      <th>Friday</th>\n",
              "      <td>1</td>\n",
              "      <td>6</td>\n",
              "      <td>7</td>\n",
              "    </tr>\n",
              "  </tbody>\n",
              "</table>\n",
              "</div>"
            ],
            "text/plain": [
              "           Almond Butter  Peanut Butter  Cashew Butter\n",
              "Monday                12             15              0\n",
              "Tuesday                3              3              7\n",
              "Wednesday              9             19             18\n",
              "Thursday               4              6             12\n",
              "Friday                 1              6              7"
            ]
          },
          "metadata": {
            "tags": []
          },
          "execution_count": 3
        }
      ]
    },
    {
      "cell_type": "code",
      "metadata": {
        "id": "xcDt-fjNO1qi",
        "colab_type": "code",
        "outputId": "159f1456-6754-411b-9fc7-61d750f6189e",
        "colab": {
          "base_uri": "https://localhost:8080/",
          "height": 34
        }
      },
      "source": [
        "#create prices array\n",
        "prices = np.array([10,8,6])\n",
        "prices"
      ],
      "execution_count": 0,
      "outputs": [
        {
          "output_type": "execute_result",
          "data": {
            "text/plain": [
              "array([10,  8,  6])"
            ]
          },
          "metadata": {
            "tags": []
          },
          "execution_count": 5
        }
      ]
    },
    {
      "cell_type": "code",
      "metadata": {
        "id": "-YWgVOwtP4FA",
        "colab_type": "code",
        "outputId": "56096dd9-443b-4bb9-ad70-4351ee7a22f8",
        "colab": {
          "base_uri": "https://localhost:8080/",
          "height": 142
        }
      },
      "source": [
        "butter_prices = pd.DataFrame(prices,index=[\"Almond Butter\",\"Peanut Butter\",\"Cashew Butter\"])\n",
        "butter_prices"
      ],
      "execution_count": 0,
      "outputs": [
        {
          "output_type": "execute_result",
          "data": {
            "text/html": [
              "<div>\n",
              "<style scoped>\n",
              "    .dataframe tbody tr th:only-of-type {\n",
              "        vertical-align: middle;\n",
              "    }\n",
              "\n",
              "    .dataframe tbody tr th {\n",
              "        vertical-align: top;\n",
              "    }\n",
              "\n",
              "    .dataframe thead th {\n",
              "        text-align: right;\n",
              "    }\n",
              "</style>\n",
              "<table border=\"1\" class=\"dataframe\">\n",
              "  <thead>\n",
              "    <tr style=\"text-align: right;\">\n",
              "      <th></th>\n",
              "      <th>0</th>\n",
              "    </tr>\n",
              "  </thead>\n",
              "  <tbody>\n",
              "    <tr>\n",
              "      <th>Almond Butter</th>\n",
              "      <td>10</td>\n",
              "    </tr>\n",
              "    <tr>\n",
              "      <th>Peanut Butter</th>\n",
              "      <td>8</td>\n",
              "    </tr>\n",
              "    <tr>\n",
              "      <th>Cashew Butter</th>\n",
              "      <td>6</td>\n",
              "    </tr>\n",
              "  </tbody>\n",
              "</table>\n",
              "</div>"
            ],
            "text/plain": [
              "                0\n",
              "Almond Butter  10\n",
              "Peanut Butter   8\n",
              "Cashew Butter   6"
            ]
          },
          "metadata": {
            "tags": []
          },
          "execution_count": 6
        }
      ]
    },
    {
      "cell_type": "code",
      "metadata": {
        "id": "1wJ_yvTbRoPj",
        "colab_type": "code",
        "outputId": "a329d4e5-8dcd-4338-f308-e9dc75145ac6",
        "colab": {
          "base_uri": "https://localhost:8080/",
          "height": 102
        }
      },
      "source": [
        "total_sales=sales_amounts.dot(butter_prices)\n",
        "total_sales"
      ],
      "execution_count": 0,
      "outputs": [
        {
          "output_type": "execute_result",
          "data": {
            "text/plain": [
              "array([[240],\n",
              "       [ 96],\n",
              "       [350],\n",
              "       [160],\n",
              "       [100]])"
            ]
          },
          "metadata": {
            "tags": []
          },
          "execution_count": 8
        }
      ]
    },
    {
      "cell_type": "code",
      "metadata": {
        "id": "eI6Q_z6vSDLJ",
        "colab_type": "code",
        "outputId": "d17224f7-bace-45c6-ea9e-6356f312d57e",
        "colab": {
          "base_uri": "https://localhost:8080/",
          "height": 204
        }
      },
      "source": [
        "weekly_sales[\"Total_sales($)\"]=total_sales\n",
        "weekly_sales"
      ],
      "execution_count": 0,
      "outputs": [
        {
          "output_type": "execute_result",
          "data": {
            "text/html": [
              "<div>\n",
              "<style scoped>\n",
              "    .dataframe tbody tr th:only-of-type {\n",
              "        vertical-align: middle;\n",
              "    }\n",
              "\n",
              "    .dataframe tbody tr th {\n",
              "        vertical-align: top;\n",
              "    }\n",
              "\n",
              "    .dataframe thead th {\n",
              "        text-align: right;\n",
              "    }\n",
              "</style>\n",
              "<table border=\"1\" class=\"dataframe\">\n",
              "  <thead>\n",
              "    <tr style=\"text-align: right;\">\n",
              "      <th></th>\n",
              "      <th>Almond Butter</th>\n",
              "      <th>Peanut Butter</th>\n",
              "      <th>Cashew Butter</th>\n",
              "      <th>Total_sales($)</th>\n",
              "    </tr>\n",
              "  </thead>\n",
              "  <tbody>\n",
              "    <tr>\n",
              "      <th>Monday</th>\n",
              "      <td>12</td>\n",
              "      <td>15</td>\n",
              "      <td>0</td>\n",
              "      <td>240</td>\n",
              "    </tr>\n",
              "    <tr>\n",
              "      <th>Tuesday</th>\n",
              "      <td>3</td>\n",
              "      <td>3</td>\n",
              "      <td>7</td>\n",
              "      <td>96</td>\n",
              "    </tr>\n",
              "    <tr>\n",
              "      <th>Wednesday</th>\n",
              "      <td>9</td>\n",
              "      <td>19</td>\n",
              "      <td>18</td>\n",
              "      <td>350</td>\n",
              "    </tr>\n",
              "    <tr>\n",
              "      <th>Thursday</th>\n",
              "      <td>4</td>\n",
              "      <td>6</td>\n",
              "      <td>12</td>\n",
              "      <td>160</td>\n",
              "    </tr>\n",
              "    <tr>\n",
              "      <th>Friday</th>\n",
              "      <td>1</td>\n",
              "      <td>6</td>\n",
              "      <td>7</td>\n",
              "      <td>100</td>\n",
              "    </tr>\n",
              "  </tbody>\n",
              "</table>\n",
              "</div>"
            ],
            "text/plain": [
              "           Almond Butter  Peanut Butter  Cashew Butter  Total_sales($)\n",
              "Monday                12             15              0             240\n",
              "Tuesday                3              3              7              96\n",
              "Wednesday              9             19             18             350\n",
              "Thursday               4              6             12             160\n",
              "Friday                 1              6              7             100"
            ]
          },
          "metadata": {
            "tags": []
          },
          "execution_count": 10
        }
      ]
    },
    {
      "cell_type": "markdown",
      "metadata": {
        "id": "raCl_7aCTAcM",
        "colab_type": "text"
      },
      "source": [
        "Comparison operators"
      ]
    },
    {
      "cell_type": "code",
      "metadata": {
        "id": "45cmXKTYTDJ4",
        "colab_type": "code",
        "outputId": "733e14ee-8325-4ee3-dae8-96d15f0aa565",
        "colab": {
          "base_uri": "https://localhost:8080/",
          "height": 51
        }
      },
      "source": [
        "a3 = a2\n",
        "a3 > a2"
      ],
      "execution_count": 0,
      "outputs": [
        {
          "output_type": "execute_result",
          "data": {
            "text/plain": [
              "array([[False, False, False],\n",
              "       [False, False, False]])"
            ]
          },
          "metadata": {
            "tags": []
          },
          "execution_count": 19
        }
      ]
    },
    {
      "cell_type": "markdown",
      "metadata": {
        "id": "AfTHw50uVIya",
        "colab_type": "text"
      },
      "source": [
        "Sorting arrays"
      ]
    },
    {
      "cell_type": "code",
      "metadata": {
        "id": "8zxu5nujVLsV",
        "colab_type": "code",
        "outputId": "44b8cc3e-f010-4090-f497-44f0a49148ee",
        "colab": {
          "base_uri": "https://localhost:8080/",
          "height": 68
        }
      },
      "source": [
        "np.random.seed(0)\n",
        "random_array = np.random.randint(10,size=(3,5))\n",
        "random_array"
      ],
      "execution_count": 0,
      "outputs": [
        {
          "output_type": "execute_result",
          "data": {
            "text/plain": [
              "array([[5, 0, 3, 3, 7],\n",
              "       [9, 3, 5, 2, 4],\n",
              "       [7, 6, 8, 8, 1]])"
            ]
          },
          "metadata": {
            "tags": []
          },
          "execution_count": 20
        }
      ]
    },
    {
      "cell_type": "code",
      "metadata": {
        "id": "hhv9fcfXVmB2",
        "colab_type": "code",
        "outputId": "9afd4eea-b690-49e3-e48d-8d5aeef111f1",
        "colab": {
          "base_uri": "https://localhost:8080/",
          "height": 68
        }
      },
      "source": [
        "np.sort(random_array,axis=1)"
      ],
      "execution_count": 0,
      "outputs": [
        {
          "output_type": "execute_result",
          "data": {
            "text/plain": [
              "array([[0, 3, 3, 5, 7],\n",
              "       [2, 3, 4, 5, 9],\n",
              "       [1, 6, 7, 8, 8]])"
            ]
          },
          "metadata": {
            "tags": []
          },
          "execution_count": 22
        }
      ]
    },
    {
      "cell_type": "code",
      "metadata": {
        "id": "7kY_GODjWBHZ",
        "colab_type": "code",
        "outputId": "c08b4d56-83b7-48cc-d521-d3231d35944a",
        "colab": {
          "base_uri": "https://localhost:8080/",
          "height": 68
        }
      },
      "source": [
        "#argsort - sorts the indexes ofthe arrays\n",
        "np.argsort(random_array,axis=0)"
      ],
      "execution_count": 0,
      "outputs": [
        {
          "output_type": "execute_result",
          "data": {
            "text/plain": [
              "array([[0, 0, 0, 1, 2],\n",
              "       [2, 1, 1, 0, 1],\n",
              "       [1, 2, 2, 2, 0]])"
            ]
          },
          "metadata": {
            "tags": []
          },
          "execution_count": 23
        }
      ]
    },
    {
      "cell_type": "code",
      "metadata": {
        "id": "veo3JEQSWXkB",
        "colab_type": "code",
        "outputId": "3c4306e9-7d75-43e5-968c-e592362f554d",
        "colab": {
          "base_uri": "https://localhost:8080/",
          "height": 68
        }
      },
      "source": [
        "#argsort - sorts the indexes ofthe arrays\n",
        "np.argsort(random_array,axis=1)"
      ],
      "execution_count": 0,
      "outputs": [
        {
          "output_type": "execute_result",
          "data": {
            "text/plain": [
              "array([[1, 2, 3, 0, 4],\n",
              "       [3, 1, 4, 2, 0],\n",
              "       [4, 1, 0, 2, 3]])"
            ]
          },
          "metadata": {
            "tags": []
          },
          "execution_count": 24
        }
      ]
    },
    {
      "cell_type": "code",
      "metadata": {
        "id": "Kh_sZJ4kWo2M",
        "colab_type": "code",
        "outputId": "c7408957-2bb2-47fd-8d34-0aba5314732f",
        "colab": {
          "base_uri": "https://localhost:8080/",
          "height": 34
        }
      },
      "source": [
        "#argmin and argmax to find out index of max and min elements\n",
        "np.argmin(random_array,axis=0),np.argmin(random_array,axis=1)"
      ],
      "execution_count": 0,
      "outputs": [
        {
          "output_type": "execute_result",
          "data": {
            "text/plain": [
              "(array([0, 0, 0, 1, 2]), array([1, 3, 4]))"
            ]
          },
          "metadata": {
            "tags": []
          },
          "execution_count": 25
        }
      ]
    },
    {
      "cell_type": "code",
      "metadata": {
        "id": "t7zXU0pQXE3S",
        "colab_type": "code",
        "outputId": "5f678c91-63ff-4e2a-dca1-a5367122b668",
        "colab": {
          "base_uri": "https://localhost:8080/",
          "height": 34
        }
      },
      "source": [
        "#argmin and argmax to find out index of max and min elements\n",
        "np.argmax(random_array,axis=0),np.argmax(random_array,axis=1)"
      ],
      "execution_count": 0,
      "outputs": [
        {
          "output_type": "execute_result",
          "data": {
            "text/plain": [
              "(array([1, 2, 2, 2, 0]), array([4, 0, 2]))"
            ]
          },
          "metadata": {
            "tags": []
          },
          "execution_count": 26
        }
      ]
    },
    {
      "cell_type": "markdown",
      "metadata": {
        "id": "11FDulZeYUbj",
        "colab_type": "text"
      },
      "source": [
        "Images in numpy"
      ]
    },
    {
      "cell_type": "code",
      "metadata": {
        "id": "YWyjuXdeyMfb",
        "colab_type": "code",
        "outputId": "90c9f85e-58bc-464d-90a5-e863a9f462a6",
        "colab": {
          "base_uri": "https://localhost:8080/",
          "height": 34
        }
      },
      "source": [
        "cd drive/My Drive/Data"
      ],
      "execution_count": 0,
      "outputs": [
        {
          "output_type": "stream",
          "text": [
            "/content/drive/My Drive/Data\n"
          ],
          "name": "stdout"
        }
      ]
    },
    {
      "cell_type": "code",
      "metadata": {
        "id": "JU8aD_zvzLdj",
        "colab_type": "code",
        "outputId": "a4d839de-c711-4705-fa47-40dd46b5e84b",
        "colab": {
          "base_uri": "https://localhost:8080/",
          "height": 136
        }
      },
      "source": [
        "ls"
      ],
      "execution_count": 0,
      "outputs": [
        {
          "output_type": "stream",
          "text": [
            "Advertising.csv  Credit.csv           Hitters_y_test.csv   NCI60_y.csv\n",
            "Auto.csv         Default.xlsx         Hitters_y_train.csv  panda.png\n",
            "Boston.csv       dog-photo.png        Khan_xtest.csv       Smarket.csv\n",
            "Caravan.csv      Heart.csv            Khan_xtrain.csv      USArrests.csv\n",
            "car-photo.png    Hitters.csv          Khan_ytest.csv       Wage.csv\n",
            "car-sales.csv    Hitters_X_test.csv   Khan_ytrain.csv\n",
            "Carseats.csv     Hitters_X_train.csv  NCI60_X.csv\n"
          ],
          "name": "stdout"
        }
      ]
    },
    {
      "cell_type": "code",
      "metadata": {
        "id": "vfL5QP7lzY4d",
        "colab_type": "code",
        "outputId": "de376962-b02a-4f48-c433-1f9d5a7613f3",
        "colab": {
          "base_uri": "https://localhost:8080/",
          "height": 136
        }
      },
      "source": [
        "!ls"
      ],
      "execution_count": 0,
      "outputs": [
        {
          "output_type": "stream",
          "text": [
            "Advertising.csv  Credit.csv\t      Hitters_y_test.csv   NCI60_y.csv\n",
            "Auto.csv\t Default.xlsx\t      Hitters_y_train.csv  panda.png\n",
            "Boston.csv\t dog-photo.png\t      Khan_xtest.csv\t   Smarket.csv\n",
            "Caravan.csv\t Heart.csv\t      Khan_xtrain.csv\t   USArrests.csv\n",
            "car-photo.png\t Hitters.csv\t      Khan_ytest.csv\t   Wage.csv\n",
            "car-sales.csv\t Hitters_X_test.csv   Khan_ytrain.csv\n",
            "Carseats.csv\t Hitters_X_train.csv  NCI60_X.csv\n"
          ],
          "name": "stdout"
        }
      ]
    },
    {
      "cell_type": "code",
      "metadata": {
        "id": "jBqSSXob1nIA",
        "colab_type": "code",
        "outputId": "5f5faa39-4f41-4ddb-bb9a-e78d0d08f74a",
        "colab": {
          "base_uri": "https://localhost:8080/",
          "height": 269
        }
      },
      "source": [
        "import cv2\n",
        "import numpy as np\n",
        "from matplotlib import pyplot as plt\n",
        "\n",
        "img = cv2.imread(\"panda.png\")\n",
        "img_cvt=cv2.cvtColor(img, cv2.COLOR_BGR2RGB)\n",
        "plt.imshow(img_cvt)\n",
        "plt.show()"
      ],
      "execution_count": 0,
      "outputs": [
        {
          "output_type": "display_data",
          "data": {
            "image/png": "[encoded data removed]",
            "text/plain": [
              "<Figure size 432x288 with 1 Axes>"
            ]
          },
          "metadata": {
            "tags": []
          }
        }
      ]
    },
    {
      "cell_type": "code",
      "metadata": {
        "id": "ZKGm5QCi3Mlf",
        "colab_type": "code",
        "outputId": "b332077f-16b2-459d-fd0c-11d9ddc4ff6b",
        "colab": {
          "base_uri": "https://localhost:8080/",
          "height": 34
        }
      },
      "source": [
        "img.shape"
      ],
      "execution_count": 0,
      "outputs": [
        {
          "output_type": "execute_result",
          "data": {
            "text/plain": [
              "(2330, 3500, 3)"
            ]
          },
          "metadata": {
            "tags": []
          },
          "execution_count": 10
        }
      ]
    },
    {
      "cell_type": "code",
      "metadata": {
        "id": "zvkT6I3m3k6D",
        "colab_type": "code",
        "outputId": "4bde42cc-d0c7-4820-f28c-6462d240c330",
        "colab": {
          "base_uri": "https://localhost:8080/",
          "height": 34
        }
      },
      "source": [
        "img.ndim"
      ],
      "execution_count": 0,
      "outputs": [
        {
          "output_type": "execute_result",
          "data": {
            "text/plain": [
              "3"
            ]
          },
          "metadata": {
            "tags": []
          },
          "execution_count": 11
        }
      ]
    },
    {
      "cell_type": "code",
      "metadata": {
        "id": "-W8SlvcJ3vyw",
        "colab_type": "code",
        "outputId": "e8f04f47-dd6b-4719-c8e8-450da7c66bec",
        "colab": {
          "base_uri": "https://localhost:8080/",
          "height": 850
        }
      },
      "source": [
        "img[:10]"
      ],
      "execution_count": 0,
      "outputs": [
        {
          "output_type": "execute_result",
          "data": {
            "text/plain": [
              "array([[[17, 27, 14],\n",
              "        [17, 27, 14],\n",
              "        [17, 27, 14],\n",
              "        ...,\n",
              "        [24, 33, 42],\n",
              "        [24, 33, 42],\n",
              "        [24, 33, 42]],\n",
              "\n",
              "       [[17, 27, 14],\n",
              "        [17, 27, 14],\n",
              "        [17, 27, 14],\n",
              "        ...,\n",
              "        [24, 33, 42],\n",
              "        [24, 33, 42],\n",
              "        [24, 33, 42]],\n",
              "\n",
              "       [[17, 27, 14],\n",
              "        [17, 27, 14],\n",
              "        [17, 27, 14],\n",
              "        ...,\n",
              "        [24, 33, 42],\n",
              "        [24, 33, 42],\n",
              "        [24, 33, 42]],\n",
              "\n",
              "       ...,\n",
              "\n",
              "       [[17, 27, 14],\n",
              "        [17, 27, 14],\n",
              "        [17, 27, 14],\n",
              "        ...,\n",
              "        [26, 35, 44],\n",
              "        [26, 35, 44],\n",
              "        [26, 35, 44]],\n",
              "\n",
              "       [[16, 26, 13],\n",
              "        [16, 26, 13],\n",
              "        [16, 26, 13],\n",
              "        ...,\n",
              "        [24, 33, 42],\n",
              "        [24, 33, 42],\n",
              "        [24, 33, 42]],\n",
              "\n",
              "       [[16, 26, 13],\n",
              "        [16, 26, 13],\n",
              "        [16, 26, 13],\n",
              "        ...,\n",
              "        [25, 34, 43],\n",
              "        [25, 34, 43],\n",
              "        [25, 34, 43]]], dtype=uint8)"
            ]
          },
          "metadata": {
            "tags": []
          },
          "execution_count": 13
        }
      ]
    }
  ]
}